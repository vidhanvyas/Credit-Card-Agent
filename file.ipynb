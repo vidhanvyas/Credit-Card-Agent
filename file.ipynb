{
 "cells": [
  {
   "cell_type": "code",
   "execution_count": 117,
   "id": "8265d60c",
   "metadata": {},
   "outputs": [
    {
     "name": "stdout",
     "output_type": "stream",
     "text": [
      "Hello! It's nice to meet you. Is there something I can help you with or would you like to chat?"
     ]
    }
   ],
   "source": [
    "import re\n",
    "import os\n",
    "import httpx\n",
    "from dotenv import load_dotenv\n",
    "from groq import Groq\n",
    "\n",
    "load_dotenv()  # Loads GROQ_API_KEY into os.environ\n",
    "\n",
    "client = Groq()  # No need to pass api_key manually if .env is loaded\n",
    "\n",
    "completion = client.chat.completions.create(\n",
    "    model=\"meta-llama/llama-4-scout-17b-16e-instruct\",\n",
    "    messages=[\n",
    "      {\n",
    "        \"role\": \"user\",\n",
    "        \"content\": \"Hello World\"\n",
    "      }\n",
    "    ],\n",
    "    temperature=1,\n",
    "    max_completion_tokens=1024,\n",
    "    top_p=1,\n",
    "    stream=True,\n",
    "    stop=None,\n",
    ")\n",
    "\n",
    "for chunk in completion:\n",
    "    print(chunk.choices[0].delta.content or \"\", end=\"\")\n",
    "\n"
   ]
  },
  {
   "cell_type": "code",
   "execution_count": 118,
   "id": "1559abbb",
   "metadata": {},
   "outputs": [],
   "source": [
    "class CreditCardAgent:\n",
    "    def __init__(self, model_client, model=\"meta-llama/llama-4-scout-17b-16e-instruct\"):\n",
    "        self.client = model_client\n",
    "        self.model = model\n",
    "        self.messages = []\n",
    "\n",
    "    def chat(self, role, content):\n",
    "        self.messages.append({\"role\": role, \"content\": content})\n",
    "\n",
    "    def generate(self):\n",
    "        response = self.client.chat.completions.create(\n",
    "            model=self.model,\n",
    "            messages=self.messages,\n",
    "            temperature=0.7\n",
    "        )\n",
    "        return response.choices[0].message.content\n",
    "\n",
    "    def extract_and_update_profile(self, user_input):\n",
    "        import re\n",
    "        profile = {}\n",
    "\n",
    "        income_match = re.search(r\"(?:₹|Rs\\.?|INR)?\\s?(\\d{4,7})\", user_input.replace(\",\", \"\"))\n",
    "        profile[\"income\"] = int(income_match.group(1)) if income_match else 0\n",
    "\n",
    "        profile[\"spend_categories\"] = [w for w in [\"fuel\", \"groceries\", \"dining\", \"travel\", \"shopping\"] if w in user_input.lower()]\n",
    "\n",
    "        prefs_map = {\"cashback\": \"cashback\", \"lounge\": \"lounge access\", \"rewards\": \"reward points\"}\n",
    "        profile[\"preferences\"] = [v for k, v in prefs_map.items() if k in user_input.lower()]\n",
    "\n",
    "        score_match = re.search(r\"score.*?(\\d{3})\", user_input.lower())\n",
    "        profile[\"credit_score\"] = int(score_match.group(1)) if score_match else 700\n",
    "\n",
    "        user_profile.update(profile)\n",
    "        return profile\n",
    "\n",
    "    def run(self, user_input):\n",
    "        self.chat(\"user\", user_input)\n",
    "        self.extract_and_update_profile(user_input)\n",
    "\n",
    "        cards = filter_cards(user_profile)\n",
    "        if not cards:\n",
    "            return \"Sorry, no cards match your profile.\"\n",
    "\n",
    "        top_card_names = [c[\"name\"] for c in cards[:3]]\n",
    "        sim_rewards = [simulate_rewards(name, user_profile) for name in top_card_names]\n",
    "\n",
    "        recommendations = \"Top Cards:\\n\" + \"\\n\".join([f\"- {c['name']} ({c['reward_type']}): ₹{c['fee']}, perks: {', '.join(c['perks'])}\" for c in cards])\n",
    "        rewards = \"\\n\\nRewards Estimate:\\n\" + \"\\n\".join(sim_rewards)\n",
    "\n",
    "        summary = recommendations + rewards\n",
    "        self.chat(\"assistant\", summary)\n",
    "        return summary"
   ]
  },
  {
   "cell_type": "code",
   "execution_count": null,
   "id": "952ed200",
   "metadata": {},
   "outputs": [],
   "source": [
    "agent_prompt = \"\"\"\n",
    "You are an intelligent credit card advisor assistant.\n",
    "\n",
    "Your goal is to understand the user's financial profile and recommend the best-fit Indian credit cards from a JSON database.\n",
    "\n",
    "Follow this reasoning + action pattern:\n",
    "\n",
    "Thought → Action → Observation → (repeat if needed) → Answer\n",
    "\n",
    "Ask follow-up questions only when needed. Once you have the following details, proceed to filter and recommend cards:\n",
    "\n",
    "1. Monthly income (e.g., ₹70,000)\n",
    "2. Spending categories (e.g., groceries, dining, travel)\n",
    "3. Preferences (e.g., cashback, lounge access)\n",
    "4. Credit score (can be estimated if unknown)\n",
    "\n",
    "Use tools:\n",
    "- `filter_cards(profile)` — fetch and rank top cards\n",
    "- `simulate_rewards(card_name)` — estimate annual rewards for a card\n",
    "- `compare_cards(card_names)` — compare key card features\n",
    "\n",
    "Rules:\n",
    "- Avoid repeating questions once info is extracted\n",
    "- Always use full card names from the database for simulation/comparison\n",
    "- If a card name is vague, try to fuzzy match the best available one\n",
    "\n",
    "Example:\n",
    "User: I spend ₹75,000/month mostly on travel and dining. I want cashback and lounge benefits.\n",
    "\n",
    "→ Thought: I have income, spend categories, and preferences.\n",
    "→ Action: filter_cards\n",
    "→ Observation: [Top cards listed]\n",
    "→ Action: simulate_rewards on top 3 cards\n",
    "→ Observation: Estimated cashback results\n",
    "→ Answer: Show summary of recommendations\n",
    "\n",
    "\n",
    "\"\"\""
   ]
  },
  {
   "cell_type": "code",
   "execution_count": 120,
   "id": "663520b4",
   "metadata": {},
   "outputs": [],
   "source": [
    "import json\n",
    "import difflib\n",
    "\n",
    "with open(\"cards.json\") as f:\n",
    "    card_data = json.load(f)\n",
    "\n",
    "def get_best_match_card_name(name):\n",
    "    all_card_names = [card[\"name\"] for card in card_data]\n",
    "    match = difflib.get_close_matches(name, all_card_names, n=1, cutoff=0.6)\n",
    "    return match[0] if match else None\n",
    "\n",
    "\n",
    "def filter_cards(profile):\n",
    "    income = profile.get(\"income\", 0)\n",
    "    score = profile.get(\"credit_score\", 0)\n",
    "    prefs = profile.get(\"preferences\", [])\n",
    "    spend = profile.get(\"spend_categories\", [])\n",
    "\n",
    "    def card_score(card):\n",
    "        if income < card.get(\"min_income\", 0) or (isinstance(score, int) and score < card.get(\"min_score\", 0)):\n",
    "            return -1  # reject\n",
    "\n",
    "        reward = card.get(\"reward_type\", \"\").lower()\n",
    "        perks = card.get(\"perks\", [])\n",
    "        reward_cats = card.get(\"reward_categories\", [])\n",
    "\n",
    "        match_prefs = sum(1 for p in prefs if p in reward or p in \" \".join(perks))\n",
    "        match_spend = sum(1 for s in spend if s in reward_cats)\n",
    "\n",
    "        return match_prefs * 2 + match_spend + card.get(\"reward_rate\", 0)\n",
    "\n",
    "    scored_cards = [(card, card_score(card)) for card in card_data]\n",
    "    valid_cards = [c for c, score in scored_cards if score >= 0]\n",
    "    sorted_cards = sorted(valid_cards, key=lambda c: card_score(c), reverse=True)\n",
    "\n",
    "    return sorted_cards[:5]\n",
    "\n",
    "\n",
    "def simulate_rewards(card_name, profile):\n",
    "    matched_name = get_best_match_card_name(card_name)\n",
    "    if not matched_name:\n",
    "        return f\"No match found for card: {card_name}\"\n",
    "    spend = profile.get(\"income\", 0) * 0.3\n",
    "    card = next((c for c in card_data if c[\"name\"] == matched_name), None)\n",
    "    matched_categories = [cat for cat in profile.get(\"spend_categories\", []) if cat in card.get(\"reward_categories\", [])]\n",
    "    reward_rate = card.get(\"reward_rate\", 0.01)\n",
    "    multiplier = 1.5 if matched_categories else 1.0\n",
    "    annual_reward = spend * reward_rate * 12 * multiplier\n",
    "    return f\"{matched_name}: Estimated annual reward: ₹{int(annual_reward)}\"\n",
    "\n",
    "def compare_cards(names):\n",
    "    corrected_names = [get_best_match_card_name(n.strip()) for n in names]\n",
    "    selected = [c for c in card_data if c[\"name\"] in corrected_names and c[\"name\"] is not None]\n",
    "    if not selected:\n",
    "        return \"No matching cards found.\"\n",
    "    result = \"\\n\\n--- Card Comparison ---\\n\"\n",
    "    for c in selected:\n",
    "        result += f\"\\n**{c['name']} ({c['issuer']})**\\n\"\n",
    "        result += f\"Fee: ₹{c['fee']}, Reward: {c['reward_type']} ({c['reward_rate']}%)\\n\"\n",
    "        result += f\"Perks: {', '.join(c.get('perks', []))}\\n\"\n",
    "        result += f\"[Apply Here]({c['link']})\\n\"\n",
    "    return result\n",
    "\n",
    "user_profile = {}"
   ]
  },
  {
   "cell_type": "code",
   "execution_count": 121,
   "id": "e6829520",
   "metadata": {},
   "outputs": [
    {
     "name": "stdout",
     "output_type": "stream",
     "text": [
      "Top Cards:\n",
      "- AU Bank LIT Credit Card (cashback): ₹0, perks: customizable features, lounge access, OTT subscriptions\n",
      "- Axis Bank Ace Credit Card (cashback): ₹499, perks: cashback, lounge access, dining discounts\n",
      "- HDFC Millennia Credit Card (cashback): ₹1000, perks: cashback, gift vouchers\n",
      "- Bank of Baroda ETERNA Credit Card (reward points): ₹2499, perks: lounge access, golf benefits, concierge services\n",
      "- AU Bank Zenith Credit Card (reward points): ₹7999, perks: lounge access, bonus reward points, golf access\n",
      "\n",
      "Rewards Estimate:\n",
      "AU Bank LIT Credit Card: Estimated annual reward: ₹20250\n",
      "Axis Bank Ace Credit Card: Estimated annual reward: ₹20250\n",
      "HDFC Millennia Credit Card: Estimated annual reward: ₹20250\n"
     ]
    }
   ],
   "source": [
    "agent = CreditCardAgent(client)\n",
    "print(agent.run(\"I earn ₹75,000 and spend mostly on travel and dining. I want cashback and lounge access.\"))"
   ]
  },
  {
   "cell_type": "code",
   "execution_count": 122,
   "id": "a136a944",
   "metadata": {},
   "outputs": [
    {
     "name": "stdout",
     "output_type": "stream",
     "text": [
      "Sorry, no cards match your profile.\n"
     ]
    }
   ],
   "source": [
    "print(agent.run(\"I earn 10000 monthly, i spend on travel and living only. i want lounge access only, maybe a few cashbacks. Suggest cards.\"))"
   ]
  },
  {
   "cell_type": "code",
   "execution_count": 123,
   "id": "0d0b4746",
   "metadata": {},
   "outputs": [
    {
     "name": "stdout",
     "output_type": "stream",
     "text": [
      "Sorry, no cards match your profile.\n"
     ]
    }
   ],
   "source": [
    "print(agent.run(\"I earn 100000 monthly, i spend on travel and living only. i want lounge access only, maybe a few cashbacks, and my credit score is 200. Suggest cards.\"))\n"
   ]
  },
  {
   "cell_type": "code",
   "execution_count": 124,
   "id": "9355c356",
   "metadata": {},
   "outputs": [
    {
     "name": "stdout",
     "output_type": "stream",
     "text": [
      "Top Cards:\n",
      "- AU Bank LIT Credit Card (cashback): ₹0, perks: customizable features, lounge access, OTT subscriptions\n",
      "- Axis Bank Ace Credit Card (cashback): ₹499, perks: cashback, lounge access, dining discounts\n",
      "- HDFC Millennia Credit Card (cashback): ₹1000, perks: cashback, gift vouchers\n",
      "- Bank of Baroda ETERNA Credit Card (reward points): ₹2499, perks: lounge access, golf benefits, concierge services\n",
      "- Amazon Pay ICICI Bank Credit Card (amazon cashback): ₹0, perks: cashback\n",
      "\n",
      "Rewards Estimate:\n",
      "AU Bank LIT Credit Card: Estimated annual reward: ₹27000\n",
      "Axis Bank Ace Credit Card: Estimated annual reward: ₹18000\n",
      "HDFC Millennia Credit Card: Estimated annual reward: ₹27000\n"
     ]
    }
   ],
   "source": [
    "print(agent.run(\"I earn 100000 monthly, i spend on travel and living only. i want lounge access only, maybe a few cashbacks, and my credit score is 800. Suggest cards.\"))\n",
    "\n"
   ]
  },
  {
   "cell_type": "code",
   "execution_count": 125,
   "id": "4a363b57",
   "metadata": {},
   "outputs": [
    {
     "name": "stdout",
     "output_type": "stream",
     "text": [
      "Sorry, no cards match your profile.\n"
     ]
    }
   ],
   "source": [
    "print(agent.run(\"Give me a list of my best credit card options in india\"))\n"
   ]
  },
  {
   "cell_type": "code",
   "execution_count": null,
   "id": "aa2363b7",
   "metadata": {},
   "outputs": [],
   "source": []
  }
 ],
 "metadata": {
  "kernelspec": {
   "display_name": ".venv",
   "language": "python",
   "name": "python3"
  },
  "language_info": {
   "codemirror_mode": {
    "name": "ipython",
    "version": 3
   },
   "file_extension": ".py",
   "mimetype": "text/x-python",
   "name": "python",
   "nbconvert_exporter": "python",
   "pygments_lexer": "ipython3",
   "version": "3.10.9"
  }
 },
 "nbformat": 4,
 "nbformat_minor": 5
}
